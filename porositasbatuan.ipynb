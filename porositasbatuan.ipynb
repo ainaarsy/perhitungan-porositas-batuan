{
 "cells": [
  {
   "cell_type": "code",
   "execution_count": null,
   "metadata": {},
   "outputs": [],
   "source": [
    "import tkinter as tk\n",
    "\n",
    "def hitung_porositas():\n",
    "    try:\n",
    "        # Ambil input pengguna\n",
    "        rho_b = float(entry_rho_b.get())\n",
    "        rho_s = float(entry_rho_s.get())\n",
    "\n",
    "        # Validasi input\n",
    "        if rho_b <= 0 or rho_s <= 0:\n",
    "            result_label.config(text=\"Masukkan nilai yang valid!\")\n",
    "            return\n",
    "\n",
    "        # Hitung porositas\n",
    "        porositas = 1 - (rho_b / rho_s)\n",
    "        porositas = porositas * 100  # Mengubah ke persen\n",
    "\n",
    "        # Tampilkan hasil\n",
    "        result_label.config(text=f\"Porositas Batuan: {porositas:.2f} %\")\n",
    "    except ValueError:\n",
    "        result_label.config(text=\"Masukkan angka yang valid!\")\n",
    "\n",
    "# Membuat window aplikasi\n",
    "root = tk.Tk()\n",
    "root.title(\"Perhitungan Porositas Batuan\")\n",
    "\n",
    "# Label dan entry untuk massa jenis batuan\n",
    "label_rho_b = tk.Label(root, text=\"Massa Jenis Batuan (ρb) dalam g/cm³:\")\n",
    "label_rho_b.grid(row=0, column=0, padx=10, pady=5)\n",
    "\n",
    "entry_rho_b = tk.Entry(root)\n",
    "entry_rho_b.grid(row=0, column=1, padx=10, pady=5)\n",
    "\n",
    "# Label dan entry untuk massa jenis batuan padat\n",
    "label_rho_s = tk.Label(root, text=\"Massa Jenis Batuan Padat (ρs) dalam g/cm³:\")\n",
    "label_rho_s.grid(row=1, column=0, padx=10, pady=5)\n",
    "\n",
    "entry_rho_s = tk.Entry(root)\n",
    "entry_rho_s.grid(row=1, column=1, padx=10, pady=5)\n",
    "\n",
    "# Tombol untuk menghitung\n",
    "calculate_button = tk.Button(root, text=\"Hitung Porositas\", command=hitung_porositas)\n",
    "calculate_button.grid(row=2, column=0, columnspan=2, pady=10)\n",
    "\n",
    "# Label untuk menampilkan hasil\n",
    "result_label = tk.Label(root, text=\"Porositas Batuan: -\")\n",
    "result_label.grid(row=3, column=0, columnspan=2, pady=10)\n",
    "\n",
    "# Menjalankan aplikasi\n",
    "root.mainloop()\n"
   ]
  }
 ],
 "metadata": {
  "kernelspec": {
   "display_name": "Python 3",
   "language": "python",
   "name": "python3"
  },
  "language_info": {
   "codemirror_mode": {
    "name": "ipython",
    "version": 3
   },
   "file_extension": ".py",
   "mimetype": "text/x-python",
   "name": "python",
   "nbconvert_exporter": "python",
   "pygments_lexer": "ipython3",
   "version": "3.12.2"
  }
 },
 "nbformat": 4,
 "nbformat_minor": 2
}
